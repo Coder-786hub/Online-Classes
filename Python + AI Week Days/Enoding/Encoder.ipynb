{
 "cells": [
  {
   "cell_type": "code",
   "execution_count": 18,
   "id": "2c6e2931-9b85-4783-8f32-d0abe7690361",
   "metadata": {},
   "outputs": [],
   "source": [
    "import numpy as np\n",
    "import pandas as pd"
   ]
  },
  {
   "cell_type": "code",
   "execution_count": 19,
   "id": "80138f6c-16fb-4db8-8c2e-131fa3bac301",
   "metadata": {},
   "outputs": [],
   "source": [
    "data = pd.DataFrame({\"name\" : [\"kriss\", \"moris\", \"john\", \"mohan\", \"hlo\"],\n",
    "                    \"age\" : [22, 33, 21, 12, 25],\n",
    "                    \"fvrt_color\" : [\"red\", \"blue\", \"red\", \"green\", \"green\"]})"
   ]
  },
  {
   "cell_type": "code",
   "execution_count": 20,
   "id": "52d68891-f09e-4c25-a8de-22eb6e4072bb",
   "metadata": {},
   "outputs": [
    {
     "data": {
      "text/html": [
       "<div>\n",
       "<style scoped>\n",
       "    .dataframe tbody tr th:only-of-type {\n",
       "        vertical-align: middle;\n",
       "    }\n",
       "\n",
       "    .dataframe tbody tr th {\n",
       "        vertical-align: top;\n",
       "    }\n",
       "\n",
       "    .dataframe thead th {\n",
       "        text-align: right;\n",
       "    }\n",
       "</style>\n",
       "<table border=\"1\" class=\"dataframe\">\n",
       "  <thead>\n",
       "    <tr style=\"text-align: right;\">\n",
       "      <th></th>\n",
       "      <th>name</th>\n",
       "      <th>age</th>\n",
       "      <th>fvrt_color</th>\n",
       "    </tr>\n",
       "  </thead>\n",
       "  <tbody>\n",
       "    <tr>\n",
       "      <th>0</th>\n",
       "      <td>kriss</td>\n",
       "      <td>22</td>\n",
       "      <td>red</td>\n",
       "    </tr>\n",
       "    <tr>\n",
       "      <th>1</th>\n",
       "      <td>moris</td>\n",
       "      <td>33</td>\n",
       "      <td>blue</td>\n",
       "    </tr>\n",
       "    <tr>\n",
       "      <th>2</th>\n",
       "      <td>john</td>\n",
       "      <td>21</td>\n",
       "      <td>red</td>\n",
       "    </tr>\n",
       "    <tr>\n",
       "      <th>3</th>\n",
       "      <td>mohan</td>\n",
       "      <td>12</td>\n",
       "      <td>green</td>\n",
       "    </tr>\n",
       "    <tr>\n",
       "      <th>4</th>\n",
       "      <td>hlo</td>\n",
       "      <td>25</td>\n",
       "      <td>green</td>\n",
       "    </tr>\n",
       "  </tbody>\n",
       "</table>\n",
       "</div>"
      ],
      "text/plain": [
       "    name  age fvrt_color\n",
       "0  kriss   22        red\n",
       "1  moris   33       blue\n",
       "2   john   21        red\n",
       "3  mohan   12      green\n",
       "4    hlo   25      green"
      ]
     },
     "execution_count": 20,
     "metadata": {},
     "output_type": "execute_result"
    }
   ],
   "source": [
    "data"
   ]
  },
  {
   "cell_type": "code",
   "execution_count": 21,
   "id": "efa2f0ea-ccfc-40d5-9c58-e003d674330d",
   "metadata": {},
   "outputs": [],
   "source": [
    "from sklearn.preprocessing import LabelEncoder"
   ]
  },
  {
   "cell_type": "code",
   "execution_count": 22,
   "id": "40205879-db80-49e7-9430-f86a9beaac34",
   "metadata": {},
   "outputs": [],
   "source": [
    "lbl = LabelEncoder()"
   ]
  },
  {
   "cell_type": "code",
   "execution_count": 23,
   "id": "56e9fa9b-8ef4-428e-bf12-ecd0142021b5",
   "metadata": {},
   "outputs": [],
   "source": [
    "encoded_column = lbl.fit_transform(data[\"fvrt_color\"])"
   ]
  },
  {
   "cell_type": "code",
   "execution_count": 24,
   "id": "20060f98-9425-4672-8c24-c016c52948e6",
   "metadata": {},
   "outputs": [
    {
     "data": {
      "text/plain": [
       "array([2, 0, 2, 1, 1])"
      ]
     },
     "execution_count": 24,
     "metadata": {},
     "output_type": "execute_result"
    }
   ],
   "source": [
    "encoded_column"
   ]
  },
  {
   "cell_type": "code",
   "execution_count": 25,
   "id": "fbae861a-dce7-4a01-bd5e-ab05fb6f0445",
   "metadata": {},
   "outputs": [],
   "source": [
    "data[\"encoded_column\"] = encoded_column"
   ]
  },
  {
   "cell_type": "code",
   "execution_count": 27,
   "id": "5b1f357c-b28c-4989-8f8e-1b24fdd8d8c1",
   "metadata": {},
   "outputs": [],
   "source": [
    "data1 = pd.DataFrame({\"name\" : [\"kriss\", \"moris\", \"john\", \"mohan\", \"hlo\"],\n",
    "                    \"age\" : [22, 33, 21, 12, 25],\n",
    "                    \"fvrt_color\" : [\"red\", \"blue\", \"red\", \"green\", \"green\"]})"
   ]
  },
  {
   "cell_type": "code",
   "execution_count": 14,
   "id": "57f76083-3e03-4313-9ae0-c4342f2911a7",
   "metadata": {},
   "outputs": [],
   "source": [
    "from sklearn.preprocessing import OneHotEncoder"
   ]
  },
  {
   "cell_type": "code",
   "execution_count": 15,
   "id": "3d5d5a77-4dbb-4ff6-86ee-43782cd24f65",
   "metadata": {},
   "outputs": [],
   "source": [
    "ohe = OneHotEncoder()"
   ]
  },
  {
   "cell_type": "code",
   "execution_count": 32,
   "id": "b4893cad-5986-41f0-896c-8742fa8ca58f",
   "metadata": {},
   "outputs": [
    {
     "data": {
      "text/plain": [
       "array([[0., 0., 1.],\n",
       "       [1., 0., 0.],\n",
       "       [0., 0., 1.],\n",
       "       [0., 1., 0.],\n",
       "       [0., 1., 0.]])"
      ]
     },
     "execution_count": 32,
     "metadata": {},
     "output_type": "execute_result"
    }
   ],
   "source": [
    "ohe.fit_transform(data1.fvrt_color.values.reshape(-1,1)).toarray()"
   ]
  },
  {
   "cell_type": "code",
   "execution_count": 36,
   "id": "0bf4f1f4-ada6-4d6d-a171-af4579c5744e",
   "metadata": {},
   "outputs": [],
   "source": [
    "new_data = pd.get_dummies(data[\"fvrt_color\"])"
   ]
  },
  {
   "cell_type": "code",
   "execution_count": 37,
   "id": "57bf2897-64b4-4997-b6e6-1cf01211f699",
   "metadata": {},
   "outputs": [
    {
     "data": {
      "text/html": [
       "<div>\n",
       "<style scoped>\n",
       "    .dataframe tbody tr th:only-of-type {\n",
       "        vertical-align: middle;\n",
       "    }\n",
       "\n",
       "    .dataframe tbody tr th {\n",
       "        vertical-align: top;\n",
       "    }\n",
       "\n",
       "    .dataframe thead th {\n",
       "        text-align: right;\n",
       "    }\n",
       "</style>\n",
       "<table border=\"1\" class=\"dataframe\">\n",
       "  <thead>\n",
       "    <tr style=\"text-align: right;\">\n",
       "      <th></th>\n",
       "      <th>name</th>\n",
       "      <th>age</th>\n",
       "      <th>fvrt_color</th>\n",
       "      <th>encoded_column</th>\n",
       "      <th>blue</th>\n",
       "      <th>green</th>\n",
       "      <th>red</th>\n",
       "    </tr>\n",
       "  </thead>\n",
       "  <tbody>\n",
       "    <tr>\n",
       "      <th>0</th>\n",
       "      <td>kriss</td>\n",
       "      <td>22</td>\n",
       "      <td>red</td>\n",
       "      <td>2</td>\n",
       "      <td>False</td>\n",
       "      <td>False</td>\n",
       "      <td>True</td>\n",
       "    </tr>\n",
       "    <tr>\n",
       "      <th>1</th>\n",
       "      <td>moris</td>\n",
       "      <td>33</td>\n",
       "      <td>blue</td>\n",
       "      <td>0</td>\n",
       "      <td>True</td>\n",
       "      <td>False</td>\n",
       "      <td>False</td>\n",
       "    </tr>\n",
       "    <tr>\n",
       "      <th>2</th>\n",
       "      <td>john</td>\n",
       "      <td>21</td>\n",
       "      <td>red</td>\n",
       "      <td>2</td>\n",
       "      <td>False</td>\n",
       "      <td>False</td>\n",
       "      <td>True</td>\n",
       "    </tr>\n",
       "    <tr>\n",
       "      <th>3</th>\n",
       "      <td>mohan</td>\n",
       "      <td>12</td>\n",
       "      <td>green</td>\n",
       "      <td>1</td>\n",
       "      <td>False</td>\n",
       "      <td>True</td>\n",
       "      <td>False</td>\n",
       "    </tr>\n",
       "    <tr>\n",
       "      <th>4</th>\n",
       "      <td>hlo</td>\n",
       "      <td>25</td>\n",
       "      <td>green</td>\n",
       "      <td>1</td>\n",
       "      <td>False</td>\n",
       "      <td>True</td>\n",
       "      <td>False</td>\n",
       "    </tr>\n",
       "  </tbody>\n",
       "</table>\n",
       "</div>"
      ],
      "text/plain": [
       "    name  age fvrt_color  encoded_column   blue  green    red\n",
       "0  kriss   22        red               2  False  False   True\n",
       "1  moris   33       blue               0   True  False  False\n",
       "2   john   21        red               2  False  False   True\n",
       "3  mohan   12      green               1  False   True  False\n",
       "4    hlo   25      green               1  False   True  False"
      ]
     },
     "execution_count": 37,
     "metadata": {},
     "output_type": "execute_result"
    }
   ],
   "source": [
    "data.join(new_data)"
   ]
  },
  {
   "cell_type": "code",
   "execution_count": null,
   "id": "6b415c73-0968-4f9f-b805-eef8ba42ad6c",
   "metadata": {},
   "outputs": [],
   "source": []
  }
 ],
 "metadata": {
  "kernelspec": {
   "display_name": "Python 3 (ipykernel)",
   "language": "python",
   "name": "python3"
  },
  "language_info": {
   "codemirror_mode": {
    "name": "ipython",
    "version": 3
   },
   "file_extension": ".py",
   "mimetype": "text/x-python",
   "name": "python",
   "nbconvert_exporter": "python",
   "pygments_lexer": "ipython3",
   "version": "3.12.2"
  }
 },
 "nbformat": 4,
 "nbformat_minor": 5
}
